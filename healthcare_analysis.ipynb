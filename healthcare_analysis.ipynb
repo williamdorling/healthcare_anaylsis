{
 "cells": [
  {
   "cell_type": "markdown",
   "metadata": {},
   "source": [
    "# Healthcare Analysis Notebook:\n",
    "An project to explore and analyse a synthetic set of healthcare data.\n",
    "<br>\n",
    "Data taken from https://www.kaggle.com/datasets/prasad22/healthcare-dataset/data"
   ]
  },
  {
   "cell_type": "code",
   "execution_count": 1,
   "metadata": {},
   "outputs": [],
   "source": [
    "import pandas as pd\n",
    "import numpy as np\n",
    "import matplotlib.pyplot as plt\n",
    "import seaborn as sns"
   ]
  },
  {
   "cell_type": "code",
   "execution_count": 2,
   "metadata": {},
   "outputs": [],
   "source": [
    "main_df = pd.read_csv('healthcare_dataset.csv')"
   ]
  },
  {
   "cell_type": "code",
   "execution_count": 3,
   "metadata": {},
   "outputs": [
    {
     "data": {
      "text/html": [
       "<div>\n",
       "<style scoped>\n",
       "    .dataframe tbody tr th:only-of-type {\n",
       "        vertical-align: middle;\n",
       "    }\n",
       "\n",
       "    .dataframe tbody tr th {\n",
       "        vertical-align: top;\n",
       "    }\n",
       "\n",
       "    .dataframe thead th {\n",
       "        text-align: right;\n",
       "    }\n",
       "</style>\n",
       "<table border=\"1\" class=\"dataframe\">\n",
       "  <thead>\n",
       "    <tr style=\"text-align: right;\">\n",
       "      <th></th>\n",
       "      <th>Name</th>\n",
       "      <th>Age</th>\n",
       "      <th>Gender</th>\n",
       "      <th>Blood Type</th>\n",
       "      <th>Medical Condition</th>\n",
       "      <th>Date of Admission</th>\n",
       "      <th>Doctor</th>\n",
       "      <th>Hospital</th>\n",
       "      <th>Insurance Provider</th>\n",
       "      <th>Billing Amount</th>\n",
       "      <th>Room Number</th>\n",
       "      <th>Admission Type</th>\n",
       "      <th>Discharge Date</th>\n",
       "      <th>Medication</th>\n",
       "      <th>Test Results</th>\n",
       "    </tr>\n",
       "  </thead>\n",
       "  <tbody>\n",
       "    <tr>\n",
       "      <th>0</th>\n",
       "      <td>Bobby JacksOn</td>\n",
       "      <td>30</td>\n",
       "      <td>Male</td>\n",
       "      <td>B-</td>\n",
       "      <td>Cancer</td>\n",
       "      <td>2024-01-31</td>\n",
       "      <td>Matthew Smith</td>\n",
       "      <td>Sons and Miller</td>\n",
       "      <td>Blue Cross</td>\n",
       "      <td>18856.281306</td>\n",
       "      <td>328</td>\n",
       "      <td>Urgent</td>\n",
       "      <td>2024-02-02</td>\n",
       "      <td>Paracetamol</td>\n",
       "      <td>Normal</td>\n",
       "    </tr>\n",
       "    <tr>\n",
       "      <th>1</th>\n",
       "      <td>LesLie TErRy</td>\n",
       "      <td>62</td>\n",
       "      <td>Male</td>\n",
       "      <td>A+</td>\n",
       "      <td>Obesity</td>\n",
       "      <td>2019-08-20</td>\n",
       "      <td>Samantha Davies</td>\n",
       "      <td>Kim Inc</td>\n",
       "      <td>Medicare</td>\n",
       "      <td>33643.327287</td>\n",
       "      <td>265</td>\n",
       "      <td>Emergency</td>\n",
       "      <td>2019-08-26</td>\n",
       "      <td>Ibuprofen</td>\n",
       "      <td>Inconclusive</td>\n",
       "    </tr>\n",
       "    <tr>\n",
       "      <th>2</th>\n",
       "      <td>DaNnY sMitH</td>\n",
       "      <td>76</td>\n",
       "      <td>Female</td>\n",
       "      <td>A-</td>\n",
       "      <td>Obesity</td>\n",
       "      <td>2022-09-22</td>\n",
       "      <td>Tiffany Mitchell</td>\n",
       "      <td>Cook PLC</td>\n",
       "      <td>Aetna</td>\n",
       "      <td>27955.096079</td>\n",
       "      <td>205</td>\n",
       "      <td>Emergency</td>\n",
       "      <td>2022-10-07</td>\n",
       "      <td>Aspirin</td>\n",
       "      <td>Normal</td>\n",
       "    </tr>\n",
       "    <tr>\n",
       "      <th>3</th>\n",
       "      <td>andrEw waTtS</td>\n",
       "      <td>28</td>\n",
       "      <td>Female</td>\n",
       "      <td>O+</td>\n",
       "      <td>Diabetes</td>\n",
       "      <td>2020-11-18</td>\n",
       "      <td>Kevin Wells</td>\n",
       "      <td>Hernandez Rogers and Vang,</td>\n",
       "      <td>Medicare</td>\n",
       "      <td>37909.782410</td>\n",
       "      <td>450</td>\n",
       "      <td>Elective</td>\n",
       "      <td>2020-12-18</td>\n",
       "      <td>Ibuprofen</td>\n",
       "      <td>Abnormal</td>\n",
       "    </tr>\n",
       "    <tr>\n",
       "      <th>4</th>\n",
       "      <td>adrIENNE bEll</td>\n",
       "      <td>43</td>\n",
       "      <td>Female</td>\n",
       "      <td>AB+</td>\n",
       "      <td>Cancer</td>\n",
       "      <td>2022-09-19</td>\n",
       "      <td>Kathleen Hanna</td>\n",
       "      <td>White-White</td>\n",
       "      <td>Aetna</td>\n",
       "      <td>14238.317814</td>\n",
       "      <td>458</td>\n",
       "      <td>Urgent</td>\n",
       "      <td>2022-10-09</td>\n",
       "      <td>Penicillin</td>\n",
       "      <td>Abnormal</td>\n",
       "    </tr>\n",
       "  </tbody>\n",
       "</table>\n",
       "</div>"
      ],
      "text/plain": [
       "            Name  Age  Gender Blood Type Medical Condition Date of Admission  \\\n",
       "0  Bobby JacksOn   30    Male         B-            Cancer        2024-01-31   \n",
       "1   LesLie TErRy   62    Male         A+           Obesity        2019-08-20   \n",
       "2    DaNnY sMitH   76  Female         A-           Obesity        2022-09-22   \n",
       "3   andrEw waTtS   28  Female         O+          Diabetes        2020-11-18   \n",
       "4  adrIENNE bEll   43  Female        AB+            Cancer        2022-09-19   \n",
       "\n",
       "             Doctor                    Hospital Insurance Provider  \\\n",
       "0     Matthew Smith             Sons and Miller         Blue Cross   \n",
       "1   Samantha Davies                     Kim Inc           Medicare   \n",
       "2  Tiffany Mitchell                    Cook PLC              Aetna   \n",
       "3       Kevin Wells  Hernandez Rogers and Vang,           Medicare   \n",
       "4    Kathleen Hanna                 White-White              Aetna   \n",
       "\n",
       "   Billing Amount  Room Number Admission Type Discharge Date   Medication  \\\n",
       "0    18856.281306          328         Urgent     2024-02-02  Paracetamol   \n",
       "1    33643.327287          265      Emergency     2019-08-26    Ibuprofen   \n",
       "2    27955.096079          205      Emergency     2022-10-07      Aspirin   \n",
       "3    37909.782410          450       Elective     2020-12-18    Ibuprofen   \n",
       "4    14238.317814          458         Urgent     2022-10-09   Penicillin   \n",
       "\n",
       "   Test Results  \n",
       "0        Normal  \n",
       "1  Inconclusive  \n",
       "2        Normal  \n",
       "3      Abnormal  \n",
       "4      Abnormal  "
      ]
     },
     "execution_count": 3,
     "metadata": {},
     "output_type": "execute_result"
    }
   ],
   "source": [
    "main_df.head()"
   ]
  },
  {
   "cell_type": "code",
   "execution_count": 4,
   "metadata": {},
   "outputs": [],
   "source": [
    "df = main_df.copy()"
   ]
  },
  {
   "cell_type": "markdown",
   "metadata": {},
   "source": [
    "### Exploratory Data Analysis (EDA)\n",
    "-  __Objective:__ Analyse the dataset to understand patient demographics, common conditions, billing patterns, and admission types.\n",
    "-  __Steps:__\n",
    "    -  Visualise age distribution, gender ratio, and common medical conditions.\n",
    "    -  Examine the average billing amount by medical condition, hospital, and insurance provider.\n",
    "    -  Identify any seasonal trends in admissions."
   ]
  },
  {
   "cell_type": "code",
   "execution_count": 5,
   "metadata": {},
   "outputs": [
    {
     "data": {
      "text/plain": [
       "Index(['Name', 'Age', 'Gender', 'Blood Type', 'Medical Condition',\n",
       "       'Date of Admission', 'Doctor', 'Hospital', 'Insurance Provider',\n",
       "       'Billing Amount', 'Room Number', 'Admission Type', 'Discharge Date',\n",
       "       'Medication', 'Test Results'],\n",
       "      dtype='object')"
      ]
     },
     "execution_count": 5,
     "metadata": {},
     "output_type": "execute_result"
    }
   ],
   "source": [
    "df.columns"
   ]
  },
  {
   "cell_type": "code",
   "execution_count": 6,
   "metadata": {},
   "outputs": [
    {
     "data": {
      "text/plain": [
       "(55500, 15)"
      ]
     },
     "execution_count": 6,
     "metadata": {},
     "output_type": "execute_result"
    }
   ],
   "source": [
    "df.shape"
   ]
  },
  {
   "cell_type": "code",
   "execution_count": 7,
   "metadata": {},
   "outputs": [],
   "source": [
    "df.drop(columns=[\"Room Number\",\"Name\",\"Doctor\"],axis=1,inplace=True)"
   ]
  },
  {
   "cell_type": "code",
   "execution_count": 8,
   "metadata": {},
   "outputs": [
    {
     "data": {
      "text/plain": [
       "534"
      ]
     },
     "execution_count": 8,
     "metadata": {},
     "output_type": "execute_result"
    }
   ],
   "source": [
    "df.duplicated().sum()"
   ]
  },
  {
   "cell_type": "code",
   "execution_count": 9,
   "metadata": {},
   "outputs": [],
   "source": [
    "df.drop_duplicates(inplace=True)"
   ]
  },
  {
   "cell_type": "code",
   "execution_count": 10,
   "metadata": {},
   "outputs": [
    {
     "name": "stdout",
     "output_type": "stream",
     "text": [
      "<class 'pandas.core.frame.DataFrame'>\n",
      "Index: 54966 entries, 0 to 55499\n",
      "Data columns (total 12 columns):\n",
      " #   Column              Non-Null Count  Dtype  \n",
      "---  ------              --------------  -----  \n",
      " 0   Age                 54966 non-null  int64  \n",
      " 1   Gender              54966 non-null  object \n",
      " 2   Blood Type          54966 non-null  object \n",
      " 3   Medical Condition   54966 non-null  object \n",
      " 4   Date of Admission   54966 non-null  object \n",
      " 5   Hospital            54966 non-null  object \n",
      " 6   Insurance Provider  54966 non-null  object \n",
      " 7   Billing Amount      54966 non-null  float64\n",
      " 8   Admission Type      54966 non-null  object \n",
      " 9   Discharge Date      54966 non-null  object \n",
      " 10  Medication          54966 non-null  object \n",
      " 11  Test Results        54966 non-null  object \n",
      "dtypes: float64(1), int64(1), object(10)\n",
      "memory usage: 5.5+ MB\n"
     ]
    }
   ],
   "source": [
    "df.info()"
   ]
  },
  {
   "cell_type": "code",
   "execution_count": 11,
   "metadata": {},
   "outputs": [
    {
     "name": "stdout",
     "output_type": "stream",
     "text": [
      "<class 'pandas.core.frame.DataFrame'>\n",
      "Index: 54966 entries, 0 to 55499\n",
      "Data columns (total 12 columns):\n",
      " #   Column              Non-Null Count  Dtype         \n",
      "---  ------              --------------  -----         \n",
      " 0   Age                 54966 non-null  int64         \n",
      " 1   Gender              54966 non-null  object        \n",
      " 2   Blood Type          54966 non-null  object        \n",
      " 3   Medical Condition   54966 non-null  object        \n",
      " 4   Date of Admission   54966 non-null  datetime64[ns]\n",
      " 5   Hospital            54966 non-null  object        \n",
      " 6   Insurance Provider  54966 non-null  object        \n",
      " 7   Billing Amount      54966 non-null  float64       \n",
      " 8   Admission Type      54966 non-null  object        \n",
      " 9   Discharge Date      54966 non-null  datetime64[ns]\n",
      " 10  Medication          54966 non-null  object        \n",
      " 11  Test Results        54966 non-null  object        \n",
      "dtypes: datetime64[ns](2), float64(1), int64(1), object(8)\n",
      "memory usage: 5.5+ MB\n"
     ]
    }
   ],
   "source": [
    "df['Date of Admission'] = pd.to_datetime(df['Date of Admission'])\n",
    "df['Discharge Date'] = pd.to_datetime(df['Discharge Date'])\n",
    "df.info()"
   ]
  },
  {
   "cell_type": "code",
   "execution_count": 12,
   "metadata": {},
   "outputs": [
    {
     "data": {
      "text/plain": [
       "count    54966.000000\n",
       "mean        51.535185\n",
       "std         19.605661\n",
       "min         13.000000\n",
       "25%         35.000000\n",
       "50%         52.000000\n",
       "75%         68.000000\n",
       "max         89.000000\n",
       "Name: Age, dtype: float64"
      ]
     },
     "execution_count": 12,
     "metadata": {},
     "output_type": "execute_result"
    }
   ],
   "source": [
    "# Visualise age distribution\n",
    "df['Age'].describe()"
   ]
  },
  {
   "cell_type": "code",
   "execution_count": 13,
   "metadata": {},
   "outputs": [
    {
     "data": {
      "image/png": "[encoded data removed]",
      "text/plain": [
       "<Figure size 640x480 with 1 Axes>"
      ]
     },
     "metadata": {},
     "output_type": "display_data"
    }
   ],
   "source": [
    "plt.figure()\n",
    "plt.title('Age Distribution')\n",
    "plt.ylabel('Age')\n",
    "plt.boxplot(df['Age'])\n",
    "plt.show()"
   ]
  },
  {
   "cell_type": "code",
   "execution_count": 14,
   "metadata": {},
   "outputs": [
    {
     "name": "stdout",
     "output_type": "stream",
     "text": [
      "50.02% of patients are male, 49.98% are female\n"
     ]
    }
   ],
   "source": [
    "# Gender ratio\n",
    "females = df['Gender'].value_counts()['Female']\n",
    "males = df['Gender'].value_counts()['Male']\n",
    "total = females + males\n",
    "print(f\"{(males*100 / total).round(2)}% of patients are male, {(females*100 / total).round(2)}% are female\")"
   ]
  },
  {
   "cell_type": "code",
   "execution_count": 15,
   "metadata": {},
   "outputs": [
    {
     "data": {
      "text/plain": [
       "count         54966\n",
       "unique            6\n",
       "top       Arthritis\n",
       "freq           9218\n",
       "Name: Medical Condition, dtype: object"
      ]
     },
     "execution_count": 15,
     "metadata": {},
     "output_type": "execute_result"
    }
   ],
   "source": [
    "# Medical conditions\n",
    "df['Medical Condition'].describe()"
   ]
  },
  {
   "cell_type": "code",
   "execution_count": 32,
   "metadata": {},
   "outputs": [
    {
     "data": {
      "image/png": "[encoded data removed]",
      "text/plain": [
       "<Figure size 640x480 with 1 Axes>"
      ]
     },
     "metadata": {},
     "output_type": "display_data"
    }
   ],
   "source": [
    "conditions = list(df['Medical Condition'].unique())\n",
    "counts = [df['Medical Condition'].value_counts()[condition] for condition in conditions]\n",
    "high = max(counts)\n",
    "low = min(counts)\n",
    "\n",
    "plt.figure()\n",
    "plt.ylim(low-0.5*(high-low),high+0.5*(high-low))\n",
    "plt.title('Medical Conditions')\n",
    "plt.ylabel('Number of Patients')\n",
    "plt.bar(conditions,counts)\n",
    "plt.show()"
   ]
  },
  {
   "cell_type": "code",
   "execution_count": 17,
   "metadata": {},
   "outputs": [
    {
     "data": {
      "text/plain": [
       "count    54966.000000\n",
       "mean     25544.306284\n",
       "std      14208.409711\n",
       "min      -2008.492140\n",
       "25%      13243.718641\n",
       "50%      25542.749145\n",
       "75%      37819.858159\n",
       "max      52764.276736\n",
       "Name: Billing Amount, dtype: float64"
      ]
     },
     "execution_count": 17,
     "metadata": {},
     "output_type": "execute_result"
    }
   ],
   "source": [
    "# Billing amounts\n",
    "df['Billing Amount'].describe()"
   ]
  },
  {
   "cell_type": "code",
   "execution_count": 18,
   "metadata": {},
   "outputs": [
    {
     "data": {
      "text/html": [
       "<div>\n",
       "<style scoped>\n",
       "    .dataframe tbody tr th:only-of-type {\n",
       "        vertical-align: middle;\n",
       "    }\n",
       "\n",
       "    .dataframe tbody tr th {\n",
       "        vertical-align: top;\n",
       "    }\n",
       "\n",
       "    .dataframe thead th {\n",
       "        text-align: right;\n",
       "    }\n",
       "</style>\n",
       "<table border=\"1\" class=\"dataframe\">\n",
       "  <thead>\n",
       "    <tr style=\"text-align: right;\">\n",
       "      <th></th>\n",
       "      <th>Age</th>\n",
       "      <th>Date of Admission</th>\n",
       "      <th>Billing Amount</th>\n",
       "      <th>Discharge Date</th>\n",
       "    </tr>\n",
       "  </thead>\n",
       "  <tbody>\n",
       "    <tr>\n",
       "      <th>count</th>\n",
       "      <td>54860.000000</td>\n",
       "      <td>54860</td>\n",
       "      <td>54860.000000</td>\n",
       "      <td>54860</td>\n",
       "    </tr>\n",
       "    <tr>\n",
       "      <th>mean</th>\n",
       "      <td>51.533850</td>\n",
       "      <td>2021-11-01 19:01:50.506744576</td>\n",
       "      <td>25594.633637</td>\n",
       "      <td>2021-11-17 07:00:08.137076224</td>\n",
       "    </tr>\n",
       "    <tr>\n",
       "      <th>min</th>\n",
       "      <td>13.000000</td>\n",
       "      <td>2019-05-08 00:00:00</td>\n",
       "      <td>9.238787</td>\n",
       "      <td>2019-05-09 00:00:00</td>\n",
       "    </tr>\n",
       "    <tr>\n",
       "      <th>25%</th>\n",
       "      <td>35.000000</td>\n",
       "      <td>2020-07-28 00:00:00</td>\n",
       "      <td>13299.747940</td>\n",
       "      <td>2020-08-13 00:00:00</td>\n",
       "    </tr>\n",
       "    <tr>\n",
       "      <th>50%</th>\n",
       "      <td>52.000000</td>\n",
       "      <td>2021-11-02 00:00:00</td>\n",
       "      <td>25593.873000</td>\n",
       "      <td>2021-11-18 00:00:00</td>\n",
       "    </tr>\n",
       "    <tr>\n",
       "      <th>75%</th>\n",
       "      <td>68.000000</td>\n",
       "      <td>2023-02-03 00:00:00</td>\n",
       "      <td>37847.066671</td>\n",
       "      <td>2023-02-19 00:00:00</td>\n",
       "    </tr>\n",
       "    <tr>\n",
       "      <th>max</th>\n",
       "      <td>89.000000</td>\n",
       "      <td>2024-05-07 00:00:00</td>\n",
       "      <td>52764.276736</td>\n",
       "      <td>2024-06-06 00:00:00</td>\n",
       "    </tr>\n",
       "    <tr>\n",
       "      <th>std</th>\n",
       "      <td>19.605295</td>\n",
       "      <td>NaN</td>\n",
       "      <td>14175.867041</td>\n",
       "      <td>NaN</td>\n",
       "    </tr>\n",
       "  </tbody>\n",
       "</table>\n",
       "</div>"
      ],
      "text/plain": [
       "                Age              Date of Admission  Billing Amount  \\\n",
       "count  54860.000000                          54860    54860.000000   \n",
       "mean      51.533850  2021-11-01 19:01:50.506744576    25594.633637   \n",
       "min       13.000000            2019-05-08 00:00:00        9.238787   \n",
       "25%       35.000000            2020-07-28 00:00:00    13299.747940   \n",
       "50%       52.000000            2021-11-02 00:00:00    25593.873000   \n",
       "75%       68.000000            2023-02-03 00:00:00    37847.066671   \n",
       "max       89.000000            2024-05-07 00:00:00    52764.276736   \n",
       "std       19.605295                            NaN    14175.867041   \n",
       "\n",
       "                      Discharge Date  \n",
       "count                          54860  \n",
       "mean   2021-11-17 07:00:08.137076224  \n",
       "min              2019-05-09 00:00:00  \n",
       "25%              2020-08-13 00:00:00  \n",
       "50%              2021-11-18 00:00:00  \n",
       "75%              2023-02-19 00:00:00  \n",
       "max              2024-06-06 00:00:00  \n",
       "std                              NaN  "
      ]
     },
     "execution_count": 18,
     "metadata": {},
     "output_type": "execute_result"
    }
   ],
   "source": [
    "bills_df = df[df['Billing Amount'] >= 0]\n",
    "bills_df.describe()"
   ]
  },
  {
   "cell_type": "code",
   "execution_count": 19,
   "metadata": {},
   "outputs": [
    {
     "data": {
      "image/png": "[encoded data removed]",
      "text/plain": [
       "<Figure size 640x480 with 1 Axes>"
      ]
     },
     "metadata": {},
     "output_type": "display_data"
    }
   ],
   "source": [
    "# Examine the average billing amount by medical condition\n",
    "\n",
    "bills = []\n",
    "for condition in conditions:\n",
    "    average_bill = bills_df[bills_df['Medical Condition'] == condition]['Billing Amount'].mean().round(2)\n",
    "    bills += [average_bill]\n",
    "\n",
    "high = max(bills)\n",
    "low = min(bills)\n",
    "\n",
    "plt.figure()\n",
    "plt.title('Average Bill Amount by Condition')\n",
    "plt.ylim(low-0.5*(high-low),high+0.5*(high-low))\n",
    "plt.bar(conditions,bills)\n",
    "plt.show()"
   ]
  },
  {
   "cell_type": "code",
   "execution_count": 20,
   "metadata": {},
   "outputs": [
    {
     "data": {
      "text/plain": [
       "count     54860\n",
       "unique        5\n",
       "top       Cigna\n",
       "freq      11115\n",
       "Name: Insurance Provider, dtype: object"
      ]
     },
     "execution_count": 20,
     "metadata": {},
     "output_type": "execute_result"
    }
   ],
   "source": [
    "bills_df['Insurance Provider'].describe()"
   ]
  },
  {
   "cell_type": "code",
   "execution_count": 21,
   "metadata": {},
   "outputs": [
    {
     "data": {
      "image/png": "[encoded data removed]",
      "text/plain": [
       "<Figure size 640x480 with 1 Axes>"
      ]
     },
     "metadata": {},
     "output_type": "display_data"
    }
   ],
   "source": [
    "# Examine the average billing amount by insurance provider\n",
    "\n",
    "providers = list(bills_df['Insurance Provider'].unique())\n",
    "\n",
    "bills = []\n",
    "for provider in providers:\n",
    "    average_bill = bills_df[bills_df['Insurance Provider'] == provider]['Billing Amount'].mean().round(2)\n",
    "    bills += [average_bill]\n",
    "\n",
    "high = max(bills)\n",
    "low = min(bills)\n",
    "\n",
    "plt.figure()\n",
    "plt.title('Average Bill Amount by Insurance Provider')\n",
    "plt.ylim(low-0.5*(high-low),high+0.5*(high-low))\n",
    "plt.bar(providers,bills)\n",
    "plt.show()"
   ]
  },
  {
   "cell_type": "code",
   "execution_count": 22,
   "metadata": {},
   "outputs": [
    {
     "data": {
      "text/plain": [
       "count         54860\n",
       "unique        39815\n",
       "top       LLC Smith\n",
       "freq             44\n",
       "Name: Hospital, dtype: object"
      ]
     },
     "execution_count": 22,
     "metadata": {},
     "output_type": "execute_result"
    }
   ],
   "source": [
    "bills_df['Hospital'].describe()"
   ]
  },
  {
   "cell_type": "code",
   "execution_count": 43,
   "metadata": {},
   "outputs": [],
   "source": [
    "# Examine the average billing amount by hospital\n",
    "\n",
    "hospitals = list(bills_df['Hospital'].unique())\n",
    "\n",
    "cheapest_hospital = [hospitals[0], bills_df[bills_df['Hospital'] == hospitals[0]]['Billing Amount'].mean()]\n",
    "most_expensive_hospital = [hospitals[0], bills_df[bills_df['Hospital'] == hospitals[0]]['Billing Amount'].mean()]\n",
    "\n",
    "for hospital in hospitals[1:]:\n",
    "    average_bill = bills_df[bills_df['Hospital'] == hospital]['Billing Amount'].mean()\n",
    "    if average_bill < cheapest_hospital[1]:\n",
    "        cheapest_hospital = [hospital, average_bill]\n",
    "    if average_bill > most_expensive_hospital[1]:\n",
    "        most_expensive_hospital = [hospital, average_bill]\n"
   ]
  },
  {
   "cell_type": "code",
   "execution_count": 46,
   "metadata": {},
   "outputs": [
    {
     "name": "stdout",
     "output_type": "stream",
     "text": [
      "The most expensive hospital is Hernandez-Morton, with an average billing amount of 52373.03\n",
      "The cheapest hospital is Perez Hoover, Moore and, with an average billing amount of 9.24\n"
     ]
    }
   ],
   "source": [
    "print(f\"The most expensive hospital is {most_expensive_hospital[0]}, with an average billing amount of {most_expensive_hospital[1].round(2)}\")\n",
    "print(f\"The cheapest hospital is {cheapest_hospital[0]}, with an average billing amount of {cheapest_hospital[1].round(2)}\")"
   ]
  },
  {
   "cell_type": "code",
   "execution_count": 30,
   "metadata": {},
   "outputs": [],
   "source": [
    "# Identify most common months for hospital admissions\n",
    "df['Month of Admission'] = pd.DatetimeIndex(df['Date of Admission']).month_name()"
   ]
  },
  {
   "cell_type": "code",
   "execution_count": 36,
   "metadata": {},
   "outputs": [
    {
     "data": {
      "image/png": "[encoded data removed]",
      "text/plain": [
       "<Figure size 1500x800 with 1 Axes>"
      ]
     },
     "metadata": {},
     "output_type": "display_data"
    }
   ],
   "source": [
    "months = list(df['Month of Admission'].unique())\n",
    "counts = [df['Month of Admission'].value_counts()[month] for month in months]\n",
    "\n",
    "high = max(counts)\n",
    "low = min(counts)\n",
    "\n",
    "plt.figure(figsize=(15,8))\n",
    "plt.ylim(low-0.5*(high-low),high+0.5*(high-low))\n",
    "plt.title('Month of Admission')\n",
    "plt.xlabel('Month')\n",
    "plt.ylabel('Number of Admissions')\n",
    "plt.bar(months, counts)\n",
    "plt.show()"
   ]
  },
  {
   "cell_type": "code",
   "execution_count": 44,
   "metadata": {},
   "outputs": [
    {
     "data": {
      "image/png": "[encoded data removed]",
      "text/plain": [
       "<Figure size 640x480 with 1 Axes>"
      ]
     },
     "metadata": {},
     "output_type": "display_data"
    }
   ],
   "source": [
    "# Examine the lengths of admissions\n",
    "df['Length of Admission'] = (df['Discharge Date'] - df['Date of Admission']) / np.timedelta64(1, 'D')\n",
    "\n",
    "plt.figure()\n",
    "plt.title('Length of Admission')\n",
    "plt.ylabel('Days')\n",
    "plt.boxplot(df['Length of Admission'])\n",
    "plt.show()"
   ]
  }
 ],
 "metadata": {
  "kernelspec": {
   "display_name": "Python 3",
   "language": "python",
   "name": "python3"
  },
  "language_info": {
   "codemirror_mode": {
    "name": "ipython",
    "version": 3
   },
   "file_extension": ".py",
   "mimetype": "text/x-python",
   "name": "python",
   "nbconvert_exporter": "python",
   "pygments_lexer": "ipython3",
   "version": "3.12.5"
  }
 },
 "nbformat": 4,
 "nbformat_minor": 2
}
